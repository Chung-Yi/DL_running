{
 "cells": [
  {
   "cell_type": "markdown",
   "metadata": {},
   "source": [
    "## 『本次練習內容』\n",
    "#### 搭建一個能識別驗證碼的模型(CNN+CTC)"
   ]
  },
  {
   "cell_type": "markdown",
   "metadata": {},
   "source": [
    "## 『本次練習目的』\n",
    "  #### 了解如何結合CNN與CTC Loss\n",
    "  #### 有時間學員也可以延伸閱讀CNN+RNN+CTC模型\n",
    "  #### 沒有GPU的學員可以使用Colab，可以參考問答區的文章"
   ]
  },
  {
   "cell_type": "code",
   "execution_count": null,
   "metadata": {},
   "outputs": [],
   "source": [
    "## 使用Colab可先run這裡的code\n",
    "#假如要連結自己的雲端硬碟再開啟\n",
    "##from google.colab import drive\n",
    "##drive.mount('/content/gdrive')\n",
    "#檢查GPU\n",
    "##!nvidia-smi\n",
    "##安裝產生驗證碼的套件"
   ]
  },
  {
   "cell_type": "markdown",
   "metadata": {},
   "source": [
    "## 記得先 pip install captcha"
   ]
  },
  {
   "cell_type": "code",
   "execution_count": 2,
   "metadata": {
    "colab": {
     "base_uri": "https://localhost:8080/",
     "height": 136
    },
    "colab_type": "code",
    "id": "AxGi02yvx1Go",
    "outputId": "e7bf7eb2-6699-441b-d724-6b5635ffa2bc"
   },
   "outputs": [
    {
     "name": "stdout",
     "output_type": "stream",
     "text": [
      "Collecting captcha\n",
      "  Downloading https://files.pythonhosted.org/packages/90/fe/d4ddf1e6576073b5eaea76e9b2afa022c626212a30c871968480be3ccb7b/captcha-0.3-py3-none-any.whl (101kB)\n",
      "Requirement already satisfied: Pillow in c:\\users\\user\\anaconda3\\envs\\yienv\\lib\\site-packages (from captcha) (6.1.0)\n",
      "Installing collected packages: captcha\n",
      "Successfully installed captcha-0.3\n",
      "Note: you may need to restart the kernel to use updated packages.\n"
     ]
    },
    {
     "name": "stderr",
     "output_type": "stream",
     "text": [
      "You are using pip version 19.0, however version 19.3.1 is available.\n",
      "You should consider upgrading via the 'python -m pip install --upgrade pip' command.\n"
     ]
    }
   ],
   "source": [
    "pip install captcha"
   ]
  },
  {
   "cell_type": "markdown",
   "metadata": {},
   "source": [
    "## 產生驗證碼"
   ]
  },
  {
   "cell_type": "code",
   "execution_count": 2,
   "metadata": {
    "colab": {
     "base_uri": "https://localhost:8080/",
     "height": 254
    },
    "colab_type": "code",
    "id": "h2VVCBKwk6Zv",
    "outputId": "72cda421-1eca-46b1-d5bd-3b3d9e47eb08"
   },
   "outputs": [
    {
     "name": "stdout",
     "output_type": "stream",
     "text": [
      "0123456789ABCDEFGHIJKLMNOPQRSTUVWXYZ\n"
     ]
    },
    {
     "data": {
      "text/plain": [
       "Text(0.5, 1.0, 'PEAE')"
      ]
     },
     "execution_count": 2,
     "metadata": {},
     "output_type": "execute_result"
    },
    {
     "data": {
      "image/png": "[encoded data removed]",
      "text/plain": [
       "<Figure size 432x288 with 1 Axes>"
      ]
     },
     "metadata": {
      "image/png": {
       "height": 203,
       "width": 369
      },
      "needs_background": "light"
     },
     "output_type": "display_data"
    }
   ],
   "source": [
    "from captcha.image import ImageCaptcha\n",
    "import matplotlib.pyplot as plt\n",
    "import numpy as np\n",
    "import random\n",
    "\n",
    "%matplotlib inline\n",
    "%config InlineBackend.figure_format = 'retina'\n",
    "\n",
    "import string\n",
    "##驗證碼包含0-10數字以及26個英文字母\n",
    "characters = string.digits + string.ascii_uppercase\n",
    "print(characters)\n",
    "\n",
    "##設定產生圖片尺寸，以及總類別，n_class之所以要加一是為了留一個位置給Blank\n",
    "width, height, n_len, n_class = 170, 80, 4, len(characters)+1\n",
    "\n",
    "##設定產生驗證碼的generator\n",
    "generator = ImageCaptcha(width=width, height=height)\n",
    "\n",
    "##我們先練習固定長度4個字的驗證碼\n",
    "random_str = ''.join([random.choice(characters) for j in range(4)])\n",
    "img = generator.generate_image(random_str)\n",
    "\n",
    "plt.imshow(img)\n",
    "plt.title(random_str)"
   ]
  },
  {
   "cell_type": "markdown",
   "metadata": {},
   "source": [
    "## 自己搭建一個CNN模型使得output feature Map 高度被壓縮成小於4，8<寬度<20\n",
    "#### 解答的output feature Map 為 (batch_size,1,13,32)"
   ]
  },
  {
   "cell_type": "code",
   "execution_count": 11,
   "metadata": {},
   "outputs": [],
   "source": [
    "from keras import backend as K\n",
    "import keras\n",
    "\n",
    "##CTC Loss需要四個資訊，分別是\n",
    "## Label\n",
    "## 預測\n",
    "## CNN OUTPUT寬度\n",
    "## 預測影像所包含文字長度\n",
    "def ctc_lambda_func(args):\n",
    "    y_pred, labels, input_length, label_length = args\n",
    "    return K.ctc_batch_cost(labels, y_pred, input_length, label_length)"
   ]
  },
  {
   "cell_type": "code",
   "execution_count": 34,
   "metadata": {
    "colab": {
     "base_uri": "https://localhost:8080/",
     "height": 136
    },
    "colab_type": "code",
    "id": "KX3Jq1sClGGn",
    "outputId": "ea40671a-fc3b-4758-8d29-4692252e840d"
   },
   "outputs": [
    {
     "name": "stdout",
     "output_type": "stream",
     "text": [
      "(?, 1, 12, 512)\n"
     ]
    },
    {
     "name": "stderr",
     "output_type": "stream",
     "text": [
      "c:\\users\\user\\anaconda3\\envs\\yienv\\lib\\site-packages\\ipykernel_launcher.py:73: UserWarning: Update your `Model` call to the Keras 2 API: `Model(inputs=Tensor(\"in..., outputs=Tensor(\"de...)`\n",
      "c:\\users\\user\\anaconda3\\envs\\yienv\\lib\\site-packages\\ipykernel_launcher.py:84: UserWarning: Update your `Model` call to the Keras 2 API: `Model(inputs=[<tf.Tenso..., outputs=[<tf.Tenso...)`\n"
     ]
    }
   ],
   "source": [
    "from keras.models import *\n",
    "from keras.layers import *\n",
    "rnn_size = 128\n",
    "\n",
    "input_tensor = Input((height,width, 3))\n",
    "x = input_tensor\n",
    "\n",
    "\n",
    "# x = Conv2D(filters = 32,kernel_size = (3,3))(x)\n",
    "# x = BatchNormalization()(x)\n",
    "# x = Conv2D(filters = 32,kernel_size = (3,3))(x)\n",
    "# x = BatchNormalization()(x)\n",
    "# x = MaxPool2D(pool_size = (2,2))(x)\n",
    "# x = Conv2D(filters = 32,kernel_size = (3,3))(x)\n",
    "# x = BatchNormalization()(x)\n",
    "# x = Conv2D(filters = 32,kernel_size = (3,3))(x)\n",
    "# x = BatchNormalization()(x)\n",
    "# x = MaxPool2D(pool_size = (2,2))(x)\n",
    "# x = Conv2D(filters = 32,kernel_size = (3,3))(x)\n",
    "# x = BatchNormalization()(x)\n",
    "# x = Conv2D(filters = 32,kernel_size = (3,3))(x)\n",
    "# x = BatchNormalization()(x)\n",
    "# x = MaxPool2D(pool_size = (2,2))(x)\n",
    "# x = Conv2D(filters = 32,kernel_size = (3,3))(x)\n",
    "# x = BatchNormalization()(x)\n",
    "# x = Conv2D(filters = 32,kernel_size = (3,3))(x)\n",
    "# x = BatchNormalization()(x)\n",
    "# x = MaxPool2D(pool_size = (2,1))(x)\n",
    "\n",
    "\n",
    "x = Conv2D(64, (3, 3), activation='relu', name='block1_conv1')(x)\n",
    "x = Conv2D(64, (3, 3), activation='relu', name='block1_conv2')(x)\n",
    "x = BatchNormalization()(x)\n",
    "x = MaxPooling2D((2, 2), strides=(2, 2), name='block1_pool')(x)\n",
    "\n",
    "# Block 2\n",
    "x = Conv2D(128, (3, 3), activation='relu', name='block2_conv1')(x)\n",
    "x = Conv2D(128, (3, 3), activation='relu', name='block2_conv2')(x)\n",
    "x = BatchNormalization()(x)\n",
    "x = MaxPooling2D((2, 2), strides=(2, 2), name='block2_pool')(x)\n",
    "\n",
    "# Block 3\n",
    "'''可參考上面的搭法'''\n",
    "x = Conv2D(256, (3, 3), activation='relu', name='block3_conv1')(x)\n",
    "x = Conv2D(256, (3, 3), activation='relu', name='block3_conv2')(x)\n",
    "x = BatchNormalization()(x)\n",
    "x = MaxPooling2D((2, 2), strides=(2, 2), name='block3_pool')(x)\n",
    "\n",
    "# Block 4\n",
    "'''可參考上面的搭法'''\n",
    "x = Conv2D(512, (3, 3), activation='relu', name='block4_conv1')(x)\n",
    "x = Conv2D(512, (3, 3), activation='relu', name='block4_conv2')(x)\n",
    "x = BatchNormalization()(x)\n",
    "x = MaxPooling2D((2, 2), strides=(2, 1), name='block4_pool')(x)\n",
    "\n",
    "\n",
    "print(x.shape)\n",
    "\n",
    "##記錄輸出CNN尺寸，loss部分需要這個資訊\n",
    "##conv_shape=(Batch_size,輸出高度,輸出寬度,輸出深度)\n",
    "conv_shape = x.get_shape()\n",
    "\n",
    "##從(Batch_size,輸出高度,輸出寬度,輸出深度)變成(Batch_size,輸出寬度,輸出深度*輸出高度)，以符合ctc loss需求\n",
    "x = Reshape(target_shape=(int(conv_shape[2]), int(conv_shape[1]*conv_shape[3])))(x)\n",
    "\n",
    "x = Dense(100, activation='relu')(x)\n",
    "\n",
    "x = Dropout(0.25)(x)\n",
    "x = Dense(n_class, activation='softmax')(x)\n",
    "\n",
    "\n",
    "##包裝用來預測的model\n",
    "base_model = Model(input=input_tensor, output=x)\n",
    "\n",
    "\n",
    "##設定要給CTC Loss的資訊\n",
    "labels = Input(name='the_labels', shape=[n_len], dtype='float32')\n",
    "input_length = Input(name='input_length', shape=[1], dtype='int64')\n",
    "label_length = Input(name='label_length', shape=[1], dtype='int64')\n",
    "loss_out = Lambda(ctc_lambda_func, output_shape=(1,), \n",
    "                  name='ctc')([x, labels, input_length, label_length])\n",
    "\n",
    "##這裡的model是用來計算loss\n",
    "model = Model(input=[input_tensor, labels, input_length, label_length], output=[loss_out])\n",
    "\n",
    "##之所以要lambda y_true, y_pred: y_pred是因為我們的loss已經包在網路裡，會output:y_true, y_pred，而我們只需要y_pred\n",
    "model.compile(loss={'ctc': lambda y_true, y_pred: y_pred}, optimizer='SGD')\n"
   ]
  },
  {
   "cell_type": "code",
   "execution_count": 35,
   "metadata": {
    "colab": {
     "base_uri": "https://localhost:8080/",
     "height": 1000
    },
    "colab_type": "code",
    "id": "m1YRv0TVN_FL",
    "outputId": "c5b995c5-43b0-481b-8cd1-0fd5f85e4f03"
   },
   "outputs": [
    {
     "name": "stdout",
     "output_type": "stream",
     "text": [
      "Model: \"model_13\"\n",
      "__________________________________________________________________________________________________\n",
      "Layer (type)                    Output Shape         Param #     Connected to                     \n",
      "==================================================================================================\n",
      "input_10 (InputLayer)           (None, 80, 170, 3)   0                                            \n",
      "__________________________________________________________________________________________________\n",
      "block1_conv1 (Conv2D)           (None, 78, 168, 64)  1792        input_10[0][0]                   \n",
      "__________________________________________________________________________________________________\n",
      "block1_conv2 (Conv2D)           (None, 76, 166, 64)  36928       block1_conv1[0][0]               \n",
      "__________________________________________________________________________________________________\n",
      "batch_normalization_9 (BatchNor (None, 76, 166, 64)  256         block1_conv2[0][0]               \n",
      "__________________________________________________________________________________________________\n",
      "block1_pool (MaxPooling2D)      (None, 38, 83, 64)   0           batch_normalization_9[0][0]      \n",
      "__________________________________________________________________________________________________\n",
      "block2_conv1 (Conv2D)           (None, 36, 81, 128)  73856       block1_pool[0][0]                \n",
      "__________________________________________________________________________________________________\n",
      "block2_conv2 (Conv2D)           (None, 34, 79, 128)  147584      block2_conv1[0][0]               \n",
      "__________________________________________________________________________________________________\n",
      "batch_normalization_10 (BatchNo (None, 34, 79, 128)  512         block2_conv2[0][0]               \n",
      "__________________________________________________________________________________________________\n",
      "block2_pool (MaxPooling2D)      (None, 17, 39, 128)  0           batch_normalization_10[0][0]     \n",
      "__________________________________________________________________________________________________\n",
      "block3_conv1 (Conv2D)           (None, 15, 37, 256)  295168      block2_pool[0][0]                \n",
      "__________________________________________________________________________________________________\n",
      "block3_conv2 (Conv2D)           (None, 13, 35, 256)  590080      block3_conv1[0][0]               \n",
      "__________________________________________________________________________________________________\n",
      "batch_normalization_11 (BatchNo (None, 13, 35, 256)  1024        block3_conv2[0][0]               \n",
      "__________________________________________________________________________________________________\n",
      "block3_pool (MaxPooling2D)      (None, 6, 17, 256)   0           batch_normalization_11[0][0]     \n",
      "__________________________________________________________________________________________________\n",
      "block4_conv1 (Conv2D)           (None, 4, 15, 512)   1180160     block3_pool[0][0]                \n",
      "__________________________________________________________________________________________________\n",
      "block4_conv2 (Conv2D)           (None, 2, 13, 512)   2359808     block4_conv1[0][0]               \n",
      "__________________________________________________________________________________________________\n",
      "batch_normalization_12 (BatchNo (None, 2, 13, 512)   2048        block4_conv2[0][0]               \n",
      "__________________________________________________________________________________________________\n",
      "block4_pool (MaxPooling2D)      (None, 1, 12, 512)   0           batch_normalization_12[0][0]     \n",
      "__________________________________________________________________________________________________\n",
      "reshape_7 (Reshape)             (None, 12, 512)      0           block4_pool[0][0]                \n",
      "__________________________________________________________________________________________________\n",
      "dense_13 (Dense)                (None, 12, 100)      51300       reshape_7[0][0]                  \n",
      "__________________________________________________________________________________________________\n",
      "dropout_7 (Dropout)             (None, 12, 100)      0           dense_13[0][0]                   \n",
      "__________________________________________________________________________________________________\n",
      "dense_14 (Dense)                (None, 12, 37)       3737        dropout_7[0][0]                  \n",
      "__________________________________________________________________________________________________\n",
      "the_labels (InputLayer)         (None, 4)            0                                            \n",
      "__________________________________________________________________________________________________\n",
      "input_length (InputLayer)       (None, 1)            0                                            \n",
      "__________________________________________________________________________________________________\n",
      "label_length (InputLayer)       (None, 1)            0                                            \n",
      "__________________________________________________________________________________________________\n",
      "ctc (Lambda)                    (None, 1)            0           dense_14[0][0]                   \n",
      "                                                                 the_labels[0][0]                 \n",
      "                                                                 input_length[0][0]               \n",
      "                                                                 label_length[0][0]               \n",
      "==================================================================================================\n",
      "Total params: 4,744,253\n",
      "Trainable params: 4,742,333\n",
      "Non-trainable params: 1,920\n",
      "__________________________________________________________________________________________________\n"
     ]
    }
   ],
   "source": [
    "model.summary()"
   ]
  },
  {
   "cell_type": "code",
   "execution_count": 36,
   "metadata": {
    "colab": {},
    "colab_type": "code",
    "id": "5Jzb1YnqlJug"
   },
   "outputs": [],
   "source": [
    "##設計generator產生training data\n",
    "## 產生包含要給loss的資訊\n",
    "## X=輸入影像\n",
    "## np.ones(batch_size)*int(conv_shape[2])=CNN輸出feature Map寬度\n",
    "## np.ones(batch_size)*n_len=字串長度(可浮動)\n",
    "\n",
    "def gen(batch_size=128):\n",
    "    X = np.zeros((batch_size,height, width, 3), dtype=np.uint8)\n",
    "    y = np.zeros((batch_size, n_len), dtype=np.uint8)\n",
    "    while True:\n",
    "        generator = ImageCaptcha(width=width, height=height)\n",
    "        for i in range(batch_size):\n",
    "            random_str = ''.join([random.choice(characters) for j in range(4)])\n",
    "            X[i] = np.array(generator.generate_image(random_str))\n",
    "            y[i] = [characters.find(x) for x in random_str]\n",
    "        yield [X, y,np.ones(batch_size)*int(conv_shape[2]), np.ones(batch_size)*n_len], np.ones(batch_size)"
   ]
  },
  {
   "cell_type": "code",
   "execution_count": 54,
   "metadata": {
    "colab": {
     "base_uri": "https://localhost:8080/",
     "height": 225
    },
    "colab_type": "code",
    "id": "dfcFs6InVQaT",
    "outputId": "3f186d49-2e30-4efd-87c0-0670a58bc4c1"
   },
   "outputs": [
    {
     "name": "stdout",
     "output_type": "stream",
     "text": [
      "[12.]\n",
      "Label:  [[16 17 21 16]]\n",
      "CNN輸出寬度:  [12.]\n",
      "字串長度(可浮動):  [4.]\n"
     ]
    },
    {
     "data": {
      "image/png": "[encoded data removed]",
      "text/plain": [
       "<Figure size 432x288 with 1 Axes>"
      ]
     },
     "metadata": {
      "image/png": {
       "height": 191,
       "width": 369
      },
      "needs_background": "light"
     },
     "output_type": "display_data"
    }
   ],
   "source": [
    "next_ge=gen(batch_size=1)\n",
    "test_ge=next(next_ge)\n",
    "plt.imshow(test_ge[0][0][0])\n",
    "print(test_ge[0][2])\n",
    "print('Label: ',test_ge[0][1])\n",
    "print('CNN輸出寬度: ',test_ge[0][2])\n",
    "print('字串長度(可浮動): ',test_ge[0][3])"
   ]
  },
  {
   "cell_type": "markdown",
   "metadata": {},
   "source": [
    "## 開始訓練"
   ]
  },
  {
   "cell_type": "code",
   "execution_count": 38,
   "metadata": {
    "colab": {
     "base_uri": "https://localhost:8080/",
     "height": 1000
    },
    "colab_type": "code",
    "id": "fqdKnqollUKj",
    "outputId": "3da34151-a9df-4287-ead6-50c414d30e65"
   },
   "outputs": [
    {
     "name": "stdout",
     "output_type": "stream",
     "text": [
      "Epoch 1/60\n",
      "300/300 [==============================] - 41s 137ms/step - loss: 10.4312\n",
      "Epoch 2/60\n",
      "300/300 [==============================] - 40s 132ms/step - loss: 5.6349\n",
      "Epoch 3/60\n",
      "300/300 [==============================] - 40s 132ms/step - loss: 4.1424\n",
      "Epoch 4/60\n",
      "300/300 [==============================] - 40s 132ms/step - loss: 3.6000\n",
      "Epoch 5/60\n",
      "300/300 [==============================] - 40s 132ms/step - loss: 3.2523\n",
      "Epoch 6/60\n",
      "300/300 [==============================] - 40s 132ms/step - loss: 2.9149\n",
      "Epoch 7/60\n",
      "300/300 [==============================] - 40s 133ms/step - loss: 2.6661\n",
      "Epoch 8/60\n",
      "300/300 [==============================] - 40s 133ms/step - loss: 2.4855\n",
      "Epoch 9/60\n",
      "300/300 [==============================] - 40s 133ms/step - loss: 2.2773\n",
      "Epoch 10/60\n",
      "300/300 [==============================] - 40s 135ms/step - loss: 2.0637\n",
      "Epoch 11/60\n",
      "300/300 [==============================] - 41s 135ms/step - loss: 1.9095\n",
      "Epoch 12/60\n",
      "300/300 [==============================] - 40s 133ms/step - loss: 1.8369\n",
      "Epoch 13/60\n",
      "300/300 [==============================] - 40s 134ms/step - loss: 1.6632\n",
      "Epoch 14/60\n",
      "300/300 [==============================] - 40s 133ms/step - loss: 1.6046\n",
      "Epoch 15/60\n",
      "300/300 [==============================] - 40s 133ms/step - loss: 1.5215\n",
      "Epoch 16/60\n",
      "300/300 [==============================] - 40s 133ms/step - loss: 1.4336\n",
      "Epoch 17/60\n",
      "300/300 [==============================] - 40s 133ms/step - loss: 1.3581\n",
      "Epoch 18/60\n",
      "300/300 [==============================] - 40s 133ms/step - loss: 1.2821\n",
      "Epoch 19/60\n",
      "300/300 [==============================] - 40s 133ms/step - loss: 1.2778\n",
      "Epoch 20/60\n",
      "300/300 [==============================] - 40s 133ms/step - loss: 1.1789\n",
      "Epoch 21/60\n",
      "300/300 [==============================] - 40s 133ms/step - loss: 1.1216\n",
      "Epoch 22/60\n",
      "300/300 [==============================] - 40s 133ms/step - loss: 1.1084\n",
      "Epoch 23/60\n",
      "300/300 [==============================] - 40s 133ms/step - loss: 1.0543\n",
      "Epoch 24/60\n",
      "300/300 [==============================] - 40s 133ms/step - loss: 1.0485\n",
      "Epoch 25/60\n",
      "300/300 [==============================] - 40s 133ms/step - loss: 1.0160\n",
      "Epoch 26/60\n",
      "300/300 [==============================] - 40s 133ms/step - loss: 0.9625\n",
      "Epoch 27/60\n",
      "300/300 [==============================] - 40s 133ms/step - loss: 0.9625\n",
      "Epoch 28/60\n",
      "300/300 [==============================] - 40s 133ms/step - loss: 0.9178\n",
      "Epoch 29/60\n",
      "300/300 [==============================] - 40s 133ms/step - loss: 0.9158\n",
      "Epoch 30/60\n",
      "300/300 [==============================] - 40s 133ms/step - loss: 0.8902\n",
      "Epoch 31/60\n",
      "300/300 [==============================] - 40s 133ms/step - loss: 0.8844\n",
      "Epoch 32/60\n",
      "300/300 [==============================] - 40s 133ms/step - loss: 0.8956\n",
      "Epoch 33/60\n",
      "300/300 [==============================] - 40s 133ms/step - loss: 0.8277\n",
      "Epoch 34/60\n",
      "300/300 [==============================] - 40s 133ms/step - loss: 0.8384\n",
      "Epoch 35/60\n",
      "300/300 [==============================] - 40s 133ms/step - loss: 0.8089\n",
      "Epoch 36/60\n",
      "300/300 [==============================] - 40s 133ms/step - loss: 0.8151\n",
      "Epoch 37/60\n",
      "300/300 [==============================] - 40s 133ms/step - loss: 0.7781\n",
      "Epoch 38/60\n",
      "300/300 [==============================] - 40s 133ms/step - loss: 0.7358\n",
      "Epoch 39/60\n",
      "300/300 [==============================] - 40s 133ms/step - loss: 0.7605\n",
      "Epoch 40/60\n",
      "300/300 [==============================] - 40s 132ms/step - loss: 0.7447\n",
      "Epoch 41/60\n",
      "300/300 [==============================] - 40s 132ms/step - loss: 0.7450\n",
      "Epoch 42/60\n",
      "300/300 [==============================] - 40s 133ms/step - loss: 0.7337\n",
      "Epoch 43/60\n",
      "300/300 [==============================] - 40s 133ms/step - loss: 0.7299\n",
      "Epoch 44/60\n",
      "300/300 [==============================] - 40s 133ms/step - loss: 0.6936\n",
      "Epoch 45/60\n",
      "300/300 [==============================] - 40s 133ms/step - loss: 0.6702\n",
      "Epoch 46/60\n",
      "300/300 [==============================] - 40s 133ms/step - loss: 0.6697\n",
      "Epoch 47/60\n",
      "300/300 [==============================] - 40s 133ms/step - loss: 0.6573\n",
      "Epoch 48/60\n",
      "300/300 [==============================] - 40s 133ms/step - loss: 0.6660\n",
      "Epoch 49/60\n",
      "300/300 [==============================] - 40s 133ms/step - loss: 0.6590\n",
      "Epoch 50/60\n",
      "300/300 [==============================] - 40s 133ms/step - loss: 0.6368\n",
      "Epoch 51/60\n",
      "300/300 [==============================] - 40s 133ms/step - loss: 0.6112\n",
      "Epoch 52/60\n",
      "300/300 [==============================] - 40s 133ms/step - loss: 0.6173\n",
      "Epoch 53/60\n",
      "300/300 [==============================] - 40s 133ms/step - loss: 0.5970\n",
      "Epoch 54/60\n",
      "300/300 [==============================] - 40s 133ms/step - loss: 0.6024\n",
      "Epoch 55/60\n",
      "300/300 [==============================] - 40s 133ms/step - loss: 0.6144\n",
      "Epoch 56/60\n",
      "300/300 [==============================] - 40s 133ms/step - loss: 0.6095\n",
      "Epoch 57/60\n",
      "300/300 [==============================] - 40s 133ms/step - loss: 0.5672\n",
      "Epoch 58/60\n",
      "300/300 [==============================] - 40s 133ms/step - loss: 0.6034\n",
      "Epoch 59/60\n",
      "300/300 [==============================] - 40s 133ms/step - loss: 0.5314\n",
      "Epoch 60/60\n",
      "300/300 [==============================] - 40s 133ms/step - loss: 0.5623\n"
     ]
    },
    {
     "data": {
      "text/plain": [
       "<keras.callbacks.History at 0x1acf7f9c088>"
      ]
     },
     "execution_count": 38,
     "metadata": {},
     "output_type": "execute_result"
    }
   ],
   "source": [
    "model.fit_generator(gen(32), steps_per_epoch=300, epochs=60)"
   ]
  },
  {
   "cell_type": "markdown",
   "metadata": {},
   "source": [
    "## 預測"
   ]
  },
  {
   "cell_type": "code",
   "execution_count": 45,
   "metadata": {},
   "outputs": [
    {
     "data": {
      "text/plain": [
       "2"
      ]
     },
     "execution_count": 45,
     "metadata": {},
     "output_type": "execute_result"
    }
   ],
   "source": [
    "len(next(gen(1)))"
   ]
  },
  {
   "cell_type": "code",
   "execution_count": 42,
   "metadata": {},
   "outputs": [
    {
     "data": {
      "image/png": "[encoded data removed]",
      "text/plain": [
       "<Figure size 432x288 with 1 Axes>"
      ]
     },
     "metadata": {
      "image/png": {
       "height": 217,
       "width": 369
      },
      "needs_background": "light"
     },
     "output_type": "display_data"
    }
   ],
   "source": [
    "characters2 = characters + ' '\n",
    "[X_test, y_test, _, _], _  = next(gen(1))\n",
    "y_pred = base_model.predict(X_test)\n",
    "##用ctc_decode得到解答，自己寫可以參考下方\n",
    "out = K.get_value(K.ctc_decode(y_pred, input_length=np.ones(y_pred.shape[0])*y_pred.shape[1], )[0][0])\n",
    "out = ''.join([characters[x] for x in out[0]])\n",
    "y_true = ''.join([characters[x] for x in y_test[0]])\n",
    "\n",
    "plt.imshow(X_test[0])\n",
    "plt.title('pred:' + str(out) + '\\ntrue: ' + str(y_true))\n",
    "\n",
    "argmax = np.argmax(y_pred, axis=2)[0]"
   ]
  },
  {
   "cell_type": "markdown",
   "metadata": {},
   "source": [
    "## 自己寫 decode CTC"
   ]
  },
  {
   "cell_type": "code",
   "execution_count": 55,
   "metadata": {},
   "outputs": [],
   "source": [
    "## 其中0代表預測為空格，如果預測相同字符之間沒有空格要移除\n",
    "word=''\n",
    "n='0'\n",
    "for single_result in y_pred[0].argmax(1):\n",
    "    if single_result != 36:\n",
    "        if n != single_result:\n",
    "            word+=characters[single_result]\n",
    "    n=single_result "
   ]
  },
  {
   "cell_type": "markdown",
   "metadata": {},
   "source": [
    "## 額外參考：加入RNN的神經網路"
   ]
  },
  {
   "cell_type": "code",
   "execution_count": 37,
   "metadata": {},
   "outputs": [
    {
     "name": "stderr",
     "output_type": "stream",
     "text": [
      "/Users/chening/anaconda3/lib/python3.6/site-packages/ipykernel_launcher.py:8: UserWarning: Update your `Conv2D` call to the Keras 2 API: `Conv2D(32, (3, 3), activation=\"relu\")`\n",
      "  \n",
      "/Users/chening/anaconda3/lib/python3.6/site-packages/ipykernel_launcher.py:10: UserWarning: Update your `Conv2D` call to the Keras 2 API: `Conv2D(32, (3, 3), activation=\"relu\")`\n",
      "  # Remove the CWD from sys.path while we load stuff.\n",
      "/Users/chening/anaconda3/lib/python3.6/site-packages/ipykernel_launcher.py:23: UserWarning: Update your `GRU` call to the Keras 2 API: `GRU(128, return_sequences=True, name=\"gru1\", kernel_initializer=\"he_normal\")`\n",
      "/Users/chening/anaconda3/lib/python3.6/site-packages/ipykernel_launcher.py:25: UserWarning: Update your `GRU` call to the Keras 2 API: `GRU(128, return_sequences=True, go_backwards=True, name=\"gru1_b\", kernel_initializer=\"he_normal\")`\n",
      "/Users/chening/anaconda3/lib/python3.6/site-packages/ipykernel_launcher.py:28: UserWarning: Update your `GRU` call to the Keras 2 API: `GRU(128, return_sequences=True, name=\"gru2\", kernel_initializer=\"he_normal\")`\n",
      "/Users/chening/anaconda3/lib/python3.6/site-packages/ipykernel_launcher.py:30: UserWarning: Update your `GRU` call to the Keras 2 API: `GRU(128, return_sequences=True, go_backwards=True, name=\"gru2_b\", kernel_initializer=\"he_normal\")`\n",
      "/Users/chening/anaconda3/lib/python3.6/site-packages/ipykernel_launcher.py:34: UserWarning: Update your `Dense` call to the Keras 2 API: `Dense(37, activation=\"softmax\", kernel_initializer=\"he_normal\")`\n",
      "/Users/chening/anaconda3/lib/python3.6/site-packages/ipykernel_launcher.py:36: UserWarning: Update your `Model` call to the Keras 2 API: `Model(inputs=Tensor(\"in..., outputs=Tensor(\"de...)`\n",
      "/Users/chening/anaconda3/lib/python3.6/site-packages/ipykernel_launcher.py:44: UserWarning: Update your `Model` call to the Keras 2 API: `Model(inputs=[<tf.Tenso..., outputs=[<tf.Tenso...)`\n"
     ]
    }
   ],
   "source": [
    "from keras.models import *\n",
    "from keras.layers import *\n",
    "rnn_size = 128\n",
    "\n",
    "input_tensor = Input((height,width, 3))\n",
    "x = input_tensor\n",
    "for i in range(4):\n",
    "    x = Convolution2D(32, 3, 3, activation='relu')(x)\n",
    "    x = keras.layers.BatchNormalization(axis=-1)(x)\n",
    "    x = Convolution2D(32, 3, 3, activation='relu')(x)\n",
    "    x = keras.layers.BatchNormalization(axis=-1)(x)\n",
    "    if i <3:\n",
    "        x = MaxPooling2D(pool_size=(2, 2))(x)\n",
    "    else:\n",
    "        x = MaxPooling2D(pool_size=(2, 1))(x)\n",
    "\n",
    "\n",
    "conv_shape = x.get_shape()\n",
    "x = Reshape(target_shape=(int(conv_shape[2]), int(conv_shape[1]*conv_shape[3])))(x)\n",
    "\n",
    "x = Dense(32, activation='relu')(x)\n",
    "\n",
    "gru_1 = GRU(rnn_size, return_sequences=True, init='he_normal', name='gru1')(x)\n",
    "gru_1b = GRU(rnn_size, return_sequences=True, go_backwards=True, \n",
    "             init='he_normal', name='gru1_b')(x)\n",
    "gru1_merged = keras.layers.add([gru_1, gru_1b])\n",
    "\n",
    "gru_2 = GRU(rnn_size, return_sequences=True, init='he_normal', name='gru2')(gru1_merged)\n",
    "gru_2b = GRU(rnn_size, return_sequences=True, go_backwards=True, \n",
    "             init='he_normal', name='gru2_b')(gru1_merged)\n",
    "x = keras.layers.Concatenate()([gru_2, gru_2b])\n",
    "\n",
    "x = Dropout(0.25)(x)\n",
    "x = Dense(n_class, init='he_normal', activation='softmax')(x)\n",
    "\n",
    "base_model = Model(input=input_tensor, output=x)\n",
    "\n",
    "labels = Input(name='the_labels', shape=[n_len], dtype='float32')\n",
    "input_length = Input(name='input_length', shape=[1], dtype='int64')\n",
    "label_length = Input(name='label_length', shape=[1], dtype='int64')\n",
    "loss_out = Lambda(ctc_lambda_func, output_shape=(1,), \n",
    "                  name='ctc')([x, labels, input_length, label_length])\n",
    "\n",
    "model = Model(input=[input_tensor, labels, input_length, label_length], output=[loss_out])\n",
    "model.compile(loss={'ctc': lambda y_true, y_pred: y_pred}, optimizer='Adam')"
   ]
  },
  {
   "cell_type": "code",
   "execution_count": 38,
   "metadata": {},
   "outputs": [
    {
     "name": "stdout",
     "output_type": "stream",
     "text": [
      "__________________________________________________________________________________________________\n",
      "Layer (type)                    Output Shape         Param #     Connected to                     \n",
      "==================================================================================================\n",
      "input_4 (InputLayer)            (None, 80, 170, 3)   0                                            \n",
      "__________________________________________________________________________________________________\n",
      "conv2d_25 (Conv2D)              (None, 78, 168, 32)  896         input_4[0][0]                    \n",
      "__________________________________________________________________________________________________\n",
      "batch_normalization_25 (BatchNo (None, 78, 168, 32)  128         conv2d_25[0][0]                  \n",
      "__________________________________________________________________________________________________\n",
      "conv2d_26 (Conv2D)              (None, 76, 166, 32)  9248        batch_normalization_25[0][0]     \n",
      "__________________________________________________________________________________________________\n",
      "batch_normalization_26 (BatchNo (None, 76, 166, 32)  128         conv2d_26[0][0]                  \n",
      "__________________________________________________________________________________________________\n",
      "max_pooling2d_13 (MaxPooling2D) (None, 38, 83, 32)   0           batch_normalization_26[0][0]     \n",
      "__________________________________________________________________________________________________\n",
      "conv2d_27 (Conv2D)              (None, 36, 81, 32)   9248        max_pooling2d_13[0][0]           \n",
      "__________________________________________________________________________________________________\n",
      "batch_normalization_27 (BatchNo (None, 36, 81, 32)   128         conv2d_27[0][0]                  \n",
      "__________________________________________________________________________________________________\n",
      "conv2d_28 (Conv2D)              (None, 34, 79, 32)   9248        batch_normalization_27[0][0]     \n",
      "__________________________________________________________________________________________________\n",
      "batch_normalization_28 (BatchNo (None, 34, 79, 32)   128         conv2d_28[0][0]                  \n",
      "__________________________________________________________________________________________________\n",
      "max_pooling2d_14 (MaxPooling2D) (None, 17, 39, 32)   0           batch_normalization_28[0][0]     \n",
      "__________________________________________________________________________________________________\n",
      "conv2d_29 (Conv2D)              (None, 15, 37, 32)   9248        max_pooling2d_14[0][0]           \n",
      "__________________________________________________________________________________________________\n",
      "batch_normalization_29 (BatchNo (None, 15, 37, 32)   128         conv2d_29[0][0]                  \n",
      "__________________________________________________________________________________________________\n",
      "conv2d_30 (Conv2D)              (None, 13, 35, 32)   9248        batch_normalization_29[0][0]     \n",
      "__________________________________________________________________________________________________\n",
      "batch_normalization_30 (BatchNo (None, 13, 35, 32)   128         conv2d_30[0][0]                  \n",
      "__________________________________________________________________________________________________\n",
      "max_pooling2d_15 (MaxPooling2D) (None, 6, 17, 32)    0           batch_normalization_30[0][0]     \n",
      "__________________________________________________________________________________________________\n",
      "conv2d_31 (Conv2D)              (None, 4, 15, 32)    9248        max_pooling2d_15[0][0]           \n",
      "__________________________________________________________________________________________________\n",
      "batch_normalization_31 (BatchNo (None, 4, 15, 32)    128         conv2d_31[0][0]                  \n",
      "__________________________________________________________________________________________________\n",
      "conv2d_32 (Conv2D)              (None, 2, 13, 32)    9248        batch_normalization_31[0][0]     \n",
      "__________________________________________________________________________________________________\n",
      "batch_normalization_32 (BatchNo (None, 2, 13, 32)    128         conv2d_32[0][0]                  \n",
      "__________________________________________________________________________________________________\n",
      "max_pooling2d_16 (MaxPooling2D) (None, 1, 13, 32)    0           batch_normalization_32[0][0]     \n",
      "__________________________________________________________________________________________________\n",
      "reshape_4 (Reshape)             (None, 13, 32)       0           max_pooling2d_16[0][0]           \n",
      "__________________________________________________________________________________________________\n",
      "dense_7 (Dense)                 (None, 13, 32)       1056        reshape_4[0][0]                  \n",
      "__________________________________________________________________________________________________\n",
      "gru1 (GRU)                      (None, 13, 128)      61824       dense_7[0][0]                    \n",
      "__________________________________________________________________________________________________\n",
      "gru1_b (GRU)                    (None, 13, 128)      61824       dense_7[0][0]                    \n",
      "__________________________________________________________________________________________________\n",
      "add_2 (Add)                     (None, 13, 128)      0           gru1[0][0]                       \n",
      "                                                                 gru1_b[0][0]                     \n",
      "__________________________________________________________________________________________________\n",
      "gru2 (GRU)                      (None, 13, 128)      98688       add_2[0][0]                      \n",
      "__________________________________________________________________________________________________\n",
      "gru2_b (GRU)                    (None, 13, 128)      98688       add_2[0][0]                      \n",
      "__________________________________________________________________________________________________\n",
      "concatenate_2 (Concatenate)     (None, 13, 256)      0           gru2[0][0]                       \n",
      "                                                                 gru2_b[0][0]                     \n",
      "__________________________________________________________________________________________________\n",
      "dropout_4 (Dropout)             (None, 13, 256)      0           concatenate_2[0][0]              \n",
      "__________________________________________________________________________________________________\n",
      "dense_8 (Dense)                 (None, 13, 37)       9509        dropout_4[0][0]                  \n",
      "__________________________________________________________________________________________________\n",
      "the_labels (InputLayer)         (None, 4)            0                                            \n",
      "__________________________________________________________________________________________________\n",
      "input_length (InputLayer)       (None, 1)            0                                            \n",
      "__________________________________________________________________________________________________\n",
      "label_length (InputLayer)       (None, 1)            0                                            \n",
      "__________________________________________________________________________________________________\n",
      "ctc (Lambda)                    (None, 1)            0           dense_8[0][0]                    \n",
      "                                                                 the_labels[0][0]                 \n",
      "                                                                 input_length[0][0]               \n",
      "                                                                 label_length[0][0]               \n",
      "==================================================================================================\n",
      "Total params: 398,245\n",
      "Trainable params: 397,733\n",
      "Non-trainable params: 512\n",
      "__________________________________________________________________________________________________\n"
     ]
    }
   ],
   "source": [
    "model.summary()"
   ]
  },
  {
   "cell_type": "code",
   "execution_count": null,
   "metadata": {},
   "outputs": [],
   "source": []
  }
 ],
 "metadata": {
  "accelerator": "GPU",
  "colab": {
   "collapsed_sections": [],
   "name": "Captcha.ipynb",
   "provenance": []
  },
  "kernelspec": {
   "display_name": "Python 3",
   "language": "python",
   "name": "python3"
  },
  "language_info": {
   "codemirror_mode": {
    "name": "ipython",
    "version": 3
   },
   "file_extension": ".py",
   "mimetype": "text/x-python",
   "name": "python",
   "nbconvert_exporter": "python",
   "pygments_lexer": "ipython3",
   "version": "3.7.4"
  }
 },
 "nbformat": 4,
 "nbformat_minor": 1
}
