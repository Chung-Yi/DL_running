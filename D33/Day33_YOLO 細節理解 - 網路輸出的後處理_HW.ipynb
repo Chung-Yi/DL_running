{
 "cells": [
  {
   "cell_type": "markdown",
   "metadata": {},
   "source": [
    "# YOLO 細節理解 - 網路輸出的後處理\n",
    "今天的課程，我們說明了NMS在yolo中運作的情形:\n",
    "\n",
    "NMS在YOLO的實際運作以每一個類別為主，各別執行NMS。\n",
    "YOLO 在NMS中採用的信心度為「每個 bbox 包含各類別的信心度」\n",
    "\n",
    "## 作業\n",
    "在NMS流程中，IoU重疊率參數(nms_threshold )調高，試著思考一下輸出的預測框會有甚麼變化? Hint: 可以回頭看今天介紹的內容，思考輸出的預測框變多或變少?"
   ]
  },
  {
   "cell_type": "code",
   "execution_count": 1,
   "metadata": {},
   "outputs": [
    {
     "data": {
      "text/plain": [
       "27"
      ]
     },
     "execution_count": 1,
     "metadata": {},
     "output_type": "execute_result"
    }
   ],
   "source": [
    "import cv2\n",
    "import numpy as np\n",
    "\n",
    "\n",
    "def nms(bounding_boxes, confidence_score, threshold):\n",
    "    if len(bounding_boxes) == 0:\n",
    "        return [], []\n",
    "    \n",
    "    boxes = np.array(bounding_boxes)\n",
    "    \n",
    "    start_x = boxes[:, 0]\n",
    "    start_y = boxes[:, 1]\n",
    "    end_x = boxes[:, 2]\n",
    "    end_y = boxes[:, 3]\n",
    "    \n",
    "    score = np.array(confidence_score)\n",
    "    \n",
    "    \n",
    "    picked_boxes = []\n",
    "    picked_score = []\n",
    "    \n",
    "    \n",
    "    areas = (end_x - start_x + 1) * (end_y - start_y + 1)\n",
    "    order = np.argsort(score)\n",
    "    \n",
    "    while order.size > 0:\n",
    "        index = order[-1]\n",
    "        picked_boxes.append(bounding_boxes[index])\n",
    "        picked_score.append(confidence_score[index])\n",
    "        \n",
    "        x1 = np.maximum(start_x[index], start_x[order[:-1]])\n",
    "        x2 = np.maximum(end_x[index], end_x[order[:-1]])\n",
    "        y1 = np.maximum(start_y[index], start_y[order[:-1]])\n",
    "        y2 = np.maximum(end_y[index], end_y[order[:-1]])\n",
    "        \n",
    "        w = np.maximum(0.0, x2 - x1 + 1)\n",
    "        h = np.maximum(0.0, y2 - y1 + 1)\n",
    "        intersection = w * h\n",
    "        \n",
    "        ratio = intersection / (areas[index] + areas[order[:-1]] - intersection)\n",
    "        left = np.where(ratio < threshold)\n",
    "        \n",
    "        order = order[left]\n",
    "        \n",
    "    return picked_boxes, picked_score\n",
    "\n",
    "\n",
    "\n",
    "image_name = '../data/nms.jpg'\n",
    "\n",
    "\n",
    "bounding_boxes = [(187, 82, 337, 317), (150, 67, 305, 282), (246, 121, 368, 304)]\n",
    "confidence_score = [0.9, 0.75, 0.8]\n",
    "\n",
    "image = cv2.imread(image_name)\n",
    "\n",
    "org = image.copy()\n",
    "\n",
    "# Draw parameters\n",
    "font = cv2.FONT_HERSHEY_SIMPLEX\n",
    "font_scale = 1\n",
    "thickness = 2\n",
    "\n",
    "# IoU threshold\n",
    "threshold = 0.9\n",
    "\n",
    "# Draw bounding boxes and confidence score\n",
    "for (start_x, start_y, end_x, end_y), confidence in zip(bounding_boxes, confidence_score):\n",
    "    (w, h), baseline = cv2.getTextSize(str(confidence), font, font_scale, thickness)\n",
    "    cv2.rectangle(org, (start_x, start_y - (2 * baseline + 5)), (start_x + w, start_y), (0, 255, 255), -1)\n",
    "    cv2.rectangle(org, (start_x, start_y), (end_x, end_y), (0, 255, 255), 2)\n",
    "    cv2.putText(org, str(confidence), (start_x, start_y), font, font_scale, (0, 0, 0), thickness)\n",
    "\n",
    "# Run non-max suppression algorithm\n",
    "picked_boxes, picked_score = nms(bounding_boxes, confidence_score, threshold)\n",
    "\n",
    "# Draw bounding boxes and confidence score after non-maximum supression\n",
    "for (start_x, start_y, end_x, end_y), confidence in zip(picked_boxes, picked_score):\n",
    "    (w, h), baseline = cv2.getTextSize(str(confidence), font, font_scale, thickness)\n",
    "    cv2.rectangle(image, (start_x, start_y - (2 * baseline + 5)), (start_x + w, start_y), (0, 255, 255), -1)\n",
    "    cv2.rectangle(image, (start_x, start_y), (end_x, end_y), (0, 255, 255), 2)\n",
    "    cv2.putText(image, str(confidence), (start_x, start_y), font, font_scale, (0, 0, 0), thickness)\n",
    "\n",
    "# Show image\n",
    "cv2.imshow('Original', org)\n",
    "cv2.imshow('NMS=0.4', image)\n",
    "cv2.waitKey(0)"
   ]
  },
  {
   "cell_type": "markdown",
   "metadata": {},
   "source": [
    "設定IOU threshold是為了篩選掉其他的bounding box，如果IOU threshold愈來愈大會造成最後的bounding box愈來愈多"
   ]
  },
  {
   "cell_type": "code",
   "execution_count": null,
   "metadata": {},
   "outputs": [],
   "source": []
  }
 ],
 "metadata": {
  "kernelspec": {
   "display_name": "Python 3",
   "language": "python",
   "name": "python3"
  },
  "language_info": {
   "codemirror_mode": {
    "name": "ipython",
    "version": 3
   },
   "file_extension": ".py",
   "mimetype": "text/x-python",
   "name": "python",
   "nbconvert_exporter": "python",
   "pygments_lexer": "ipython3",
   "version": "3.6.7"
  }
 },
 "nbformat": 4,
 "nbformat_minor": 2
}
